{
  "nbformat": 4,
  "nbformat_minor": 0,
  "metadata": {
    "colab": {
      "provenance": [],
      "authorship_tag": "ABX9TyN08Ccr6IBQrGXZ/CJwTLK9",
      "include_colab_link": true
    },
    "kernelspec": {
      "name": "python3",
      "display_name": "Python 3"
    },
    "language_info": {
      "name": "python"
    }
  },
  "cells": [
    {
      "cell_type": "markdown",
      "metadata": {
        "id": "view-in-github",
        "colab_type": "text"
      },
      "source": [
        "<a href=\"https://colab.research.google.com/github/cindy12651269/groupby_in_Dataframe_example/blob/cindy12651269%2Fhw1/groupby_in_Dataframe_example.ipynb\" target=\"_parent\"><img src=\"https://colab.research.google.com/assets/colab-badge.svg\" alt=\"Open In Colab\"/></a>"
      ]
    },
    {
      "cell_type": "code",
      "execution_count": 2,
      "metadata": {
        "colab": {
          "base_uri": "https://localhost:8080/"
        },
        "id": "xG6BmKZ6Bllu",
        "outputId": "c95e10f8-7bf1-4088-c728-27c4bcec9806"
      },
      "outputs": [
        {
          "output_type": "stream",
          "name": "stdout",
          "text": [
            "{'Mon': 782, 'Sun': 376}\n"
          ]
        }
      ],
      "source": [
        "import pandas as pd\n",
        "import numpy as np\n",
        "#Given data\n",
        "d = [\n",
        "    {'city': 'Austin', 'visitor': 139, 'weekday': 'Sun'},\n",
        "    {'city': 'Dallas', 'visitor': 237, 'weekday': 'Sun'},\n",
        "    {'city': 'Austin', 'visitor': 326, 'weekday': 'Mon'},\n",
        "    {'city': 'Dallas', 'visitor': 456, 'weekday': 'Mon'}\n",
        "]\n",
        "#Create DataFrame\n",
        "df = pd.DataFrame(d)\n",
        "\n",
        "#Grouped by \"weekday\" and calculate the sum of visitors\n",
        "vistor_sum = df.groupby('weekday')['visitor'].sum()\n",
        "\n",
        "#Convert the result of dictionary format\n",
        "result = dict(vistor_sum)\n",
        "\n",
        "print(result)"
      ]
    }
  ]
}